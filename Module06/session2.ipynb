{
 "cells": [
  {
   "cell_type": "markdown",
   "id": "a95889a4",
   "metadata": {},
   "source": [
    "# DATA 304 – Module 6, Session 2\n",
    "\n",
    "## MongoDB with Python (PyMongo): Documents, Queries, Aggregations, Joins\n",
    "**Goal:** Work with a MongoDB collection from Python. Insert JSON-like documents, run queries, use the aggregation pipeline, and integrate with pandas.\n",
    "\n",
    "**What you'll learn:**\n",
    "- Connect to MongoDB (local or cloud)\n",
    "- Insert and query documents\n",
    "- Use projection, sorting, and operators ($gt, $in, etc.)\n",
    "- Build aggregation pipelines ($match, $group, $project, $unwind, $lookup)\n",
    "- Create indexes and view query plans\n",
    "- Load results into pandas\n",
    "\n",
    "**Prereqs:** Python 3, `pandas`. For database access you need **either** a local MongoDB server (e.g., Docker) **or** cloud instance (MongoDB Atlas)."
   ]
  },
  {
   "cell_type": "markdown",
   "id": "a5682040",
   "metadata": {},
   "source": [
    "## 0) Setup\n",
    "If `pymongo` or `mongomock` are missing, uncomment the `pip install` lines."
   ]
  },
  {
   "cell_type": "code",
   "execution_count": null,
   "id": "048fd059",
   "metadata": {},
   "outputs": [],
   "source": [
    "# If needed, install packages (uncomment if missing in your environment)\n",
    "# !pip install pymongo mongomock pandas --quiet\n",
    "import os, json\n",
    "import pandas as pd\n",
    "print('pandas', pd.__version__)"
   ]
  },
  {
   "cell_type": "markdown",
   "id": "7025ee7e",
   "metadata": {},
   "source": [
    "## 1) Connect to MongoDB (with graceful fallback)\n",
    "The code tries in this order:\n",
    "1. Real MongoDB at `mongodb://localhost:27017/`\n",
    "2. `MONGODB_URI` environment variable if set\n",
    "3. `mongomock` in-memory server for practice"
   ]
  },
  {
   "cell_type": "code",
   "execution_count": null,
   "id": "641496a1",
   "metadata": {},
   "outputs": [],
   "source": [
    "from pprint import pprint\n",
    "client = None\n",
    "db = None\n",
    "using_mock = False\n",
    "\n",
    "try:\n",
    "    from pymongo import MongoClient\n",
    "    uri = os.environ.get('MONGODB_URI', 'mongodb://localhost:27017/')\n",
    "    client = MongoClient(uri, serverSelectionTimeoutMS=1000)\n",
    "    _ = client.server_info()  # force connection\n",
    "    db = client['data304_m6']\n",
    "    print('Connected to MongoDB at', uri)\n",
    "except Exception as e:\n",
    "    print('Real MongoDB not available -> trying mongomock. Error was:', str(e))\n",
    "    try:\n",
    "        import mongomock\n",
    "        client = mongomock.MongoClient()\n",
    "        db = client['data304_m6']\n",
    "        using_mock = True\n",
    "        print('Using mongomock (in-memory MongoDB emulator).')\n",
    "    except Exception as ee:\n",
    "        raise RuntimeError('Neither real MongoDB nor mongomock available. Install pymongo or mongomock.') from ee"
   ]
  },
  {
   "cell_type": "markdown",
   "id": "5c97a535",
   "metadata": {},
   "source": [
    "## 2) Create sample collections and insert documents\n",
    "We will create three collections: `users`, `products`, and `orders`."
   ]
  },
  {
   "cell_type": "code",
   "execution_count": null,
   "id": "4077eea0",
   "metadata": {},
   "outputs": [],
   "source": [
    "users = db['users']\n",
    "products = db['products']\n",
    "orders = db['orders']\n",
    "\n",
    "# Clean slate for reruns\n",
    "users.delete_many({})\n",
    "products.delete_many({})\n",
    "orders.delete_many({})\n",
    "\n",
    "users.insert_many([\n",
    "    {\"_id\": 1, \"name\": \"Alice\", \"age\": 29, \"email\": \"alice@example.com\", \"tags\": [\"python\", \"sql\"], \"address\": {\"city\": \"Knoxville\", \"state\": \"TN\"}},\n",
    "    {\"_id\": 2, \"name\": \"Bob\",   \"age\": 35, \"email\": \"bob@example.com\",   \"tags\": [\"marketing\"],        \"address\": {\"city\": \"Nashville\", \"state\": \"TN\"}},\n",
    "    {\"_id\": 3, \"name\": \"Carla\", \"age\": 41, \"email\": \"carla@example.com\", \"tags\": [\"python\", \"ml\"],     \"address\": {\"city\": \"Atlanta\",   \"state\": \"GA\"}},\n",
    "])\n",
    "\n",
    "products.insert_many([\n",
    "    {\"_id\": 101, \"sku\": \"ABC-001\", \"name\": \"Widget A\", \"category\": \"widgets\", \"price\": 19.99},\n",
    "    {\"_id\": 102, \"sku\": \"DEF-002\", \"name\": \"Widget B\", \"category\": \"widgets\", \"price\": 29.99},\n",
    "    {\"_id\": 201, \"sku\": \"GHI-010\", \"name\": \"Gadget X\", \"category\": \"gadgets\", \"price\": 49.99}\n",
    "])\n",
    "\n",
    "orders.insert_many([\n",
    "    {\"_id\": 1001, \"user_id\": 1, \"status\": \"A\", \"items\": [{\"product_id\": 101, \"qty\": 2}, {\"product_id\": 201, \"qty\": 1}], \"amount\": 89.97},\n",
    "    {\"_id\": 1002, \"user_id\": 2, \"status\": \"P\", \"items\": [{\"product_id\": 102, \"qty\": 1}],                       \"amount\": 29.99},\n",
    "    {\"_id\": 1003, \"user_id\": 1, \"status\": \"A\", \"items\": [{\"product_id\": 102, \"qty\": 3}],                       \"amount\": 89.97}\n",
    "])\n",
    "print('Seeded users/products/orders.')"
   ]
  },
  {
   "cell_type": "markdown",
   "id": "5c7c8802",
   "metadata": {},
   "source": [
    "## 3) Basic `find` queries\n",
    "Filter, projection, sort."
   ]
  },
  {
   "cell_type": "code",
   "execution_count": null,
   "id": "fa68d733",
   "metadata": {},
   "outputs": [],
   "source": [
    "# All users aged > 30, project name and age only, sort by age desc\n",
    "cur = users.find(\n",
    "    {\"age\": {\"$gt\": 30}}, \n",
    "    {\"_id\": 0, \"name\": 1, \"age\": 1}).sort(\"age\", -1\n",
    ")"
   ]
  },
  {
   "cell_type": "code",
   "execution_count": null,
   "id": "3c2d1c76",
   "metadata": {},
   "outputs": [],
   "source": [
    "print(cur)"
   ]
  },
  {
   "cell_type": "code",
   "execution_count": null,
   "id": "f0aba76d",
   "metadata": {},
   "outputs": [],
   "source": [
    "for doc in cur:\n",
    "    print(doc)"
   ]
  },
  {
   "cell_type": "code",
   "execution_count": null,
   "id": "866edc1f",
   "metadata": {},
   "outputs": [],
   "source": [
    "list(cur)"
   ]
  },
  {
   "cell_type": "code",
   "execution_count": null,
   "id": "86f917d8",
   "metadata": {},
   "outputs": [],
   "source": [
    "cur = users.find(\n",
    "    {\"age\": {\"$gt\": 30}}, \n",
    "    {\"_id\": 0, \"name\": 1, \"age\": 1}).sort(\"age\", -1\n",
    ")\n",
    "list(cur)"
   ]
  },
  {
   "cell_type": "code",
   "execution_count": null,
   "id": "8f9fa4ba",
   "metadata": {},
   "outputs": [],
   "source": [
    "# Users with tag 'python'\n",
    "list(\n",
    "    users.find(\n",
    "        {\"tags\": \"python\"}, \n",
    "        {\"_id\": 0, \"name\": 1, \"tags\": 1}\n",
    "    )\n",
    ")"
   ]
  },
  {
   "cell_type": "code",
   "execution_count": null,
   "id": "2ce5d6bd",
   "metadata": {},
   "outputs": [],
   "source": [
    "# Users in Tennessee (nested field match)\n",
    "list(\n",
    "    users.find(\n",
    "        {\"address.state\": \"TN\"}, \n",
    "        {\"_id\": 0, \"name\": 1, \"address\": 1}\n",
    "    )\n",
    ")"
   ]
  },
  {
   "cell_type": "markdown",
   "id": "38c769cd",
   "metadata": {},
   "source": [
    "## 4) Aggregation pipeline basics\n",
    "Use `$match`, `$group`, `$project`."
   ]
  },
  {
   "cell_type": "code",
   "execution_count": null,
   "id": "20457f24",
   "metadata": {},
   "outputs": [],
   "source": [
    "pipeline = [\n",
    "    {\"$match\": \n",
    "            {\"status\": \"A\"}\n",
    "    },\n",
    "    {\"$group\": \n",
    "        {\n",
    "            \"_id\": \"$user_id\", \n",
    "            \"orders\": {\"$sum\": 1}, \n",
    "            \"total\": {\"$sum\": \"$amount\"}\n",
    "        }\n",
    "    },\n",
    "    {\"$project\": \n",
    "        {\n",
    "            \"_id\": 0, \n",
    "            \"user_id\": \"$_id\", \n",
    "            \"orders\": 1, \n",
    "            \"total\": 1\n",
    "        }\n",
    "    }\n",
    "]\n",
    "list(orders.aggregate(pipeline))"
   ]
  },
  {
   "cell_type": "markdown",
   "id": "60115d77",
   "metadata": {},
   "source": [
    "## 5) `$unwind` and `$lookup` (join-like)\n",
    "Explode arrays and join with `products` to compute totals per product."
   ]
  },
  {
   "cell_type": "code",
   "execution_count": null,
   "id": "035afc8c",
   "metadata": {},
   "outputs": [],
   "source": [
    "pipeline = [\n",
    "    {\"$unwind\": \"$items\"},\n",
    "    {\"$lookup\": {\"from\": \"products\", \"localField\": \"items.product_id\", \"foreignField\": \"_id\", \"as\": \"prod\"}},\n",
    "    {\"$unwind\": \"$prod\"},\n",
    "    {\"$group\": {\"_id\": \"$prod.sku\", \"qty\": {\"$sum\": \"$items.qty\"}, \"revenue\": {\"$sum\": {\"$multiply\": [\"$items.qty\", \"$prod.price\"]}}}},\n",
    "    {\"$project\": {\"_id\": 0, \"sku\": \"$_id\", \"qty\": 1, \"revenue\": 1}},\n",
    "    {\"$sort\": {\"revenue\": -1}}\n",
    "]\n",
    "list(orders.aggregate(pipeline))"
   ]
  },
  {
   "cell_type": "markdown",
   "id": "9493e6cf",
   "metadata": {},
   "source": [
    "SQL Equilavent:  \n",
    "\n",
    "```sql\n",
    "SELECT p.sku,  \n",
    "    SUM(i.qty) AS qty,  \n",
    "    SUM(i.qty * p.price) AS revenue  \n",
    "FROM orders o  \n",
    "JOIN order_items i ON o.id = i.order_id  \n",
    "JOIN products p ON i.product_id = p.id  \n",
    "GROUP BY p.sku  \n",
    "ORDER BY revenue DESC;  \n",
    "```"
   ]
  },
  {
   "cell_type": "markdown",
   "id": "639a4a2c",
   "metadata": {},
   "source": [
    "## 6) Indexes and explain\n",
    "Create an index and review an example query plan."
   ]
  },
  {
   "cell_type": "code",
   "execution_count": null,
   "id": "ab5fb545",
   "metadata": {},
   "outputs": [],
   "source": [
    "try:\n",
    "    users.create_index([('age', 1)])\n",
    "    plan = users.find({\"age\": {\"$gt\": 30}}).explain()\n",
    "    # Show selected parts of the plan for brevity\n",
    "    plan_keys = ['queryPlanner']\n",
    "    {k: plan.get(k) for k in plan_keys}\n",
    "except Exception as e:\n",
    "    print('Explain may be limited in mongomock:', e)"
   ]
  },
  {
   "cell_type": "markdown",
   "id": "d2faa51a",
   "metadata": {},
   "source": [
    "## 7) Pandas integration\n",
    "Convert cursors and aggregation results to DataFrames."
   ]
  },
  {
   "cell_type": "code",
   "execution_count": null,
   "id": "b116b630",
   "metadata": {},
   "outputs": [],
   "source": [
    "df_users = pd.DataFrame(list(users.find({}, {'_id': 0})))\n",
    "df_users"
   ]
  },
  {
   "cell_type": "code",
   "execution_count": null,
   "id": "79340d15",
   "metadata": {},
   "outputs": [],
   "source": [
    "df_rev = pd.DataFrame(list(orders.aggregate([\n",
    "    {\"$unwind\": \"$items\"},\n",
    "    {\"$lookup\": {\"from\": \"products\", \"localField\": \"items.product_id\", \"foreignField\": \"_id\", \"as\": \"prod\"}},\n",
    "    {\"$unwind\": \"$prod\"},\n",
    "    {\"$group\": {\"_id\": \"$prod.category\", \"revenue\": {\"$sum\": {\"$multiply\": [\"$items.qty\", \"$prod.price\"]}}}},\n",
    "    {\"$project\": {\"_id\": 0, \"category\": \"$_id\", \"revenue\": 1}}\n",
    "])))\n",
    "df_rev"
   ]
  },
  {
   "cell_type": "markdown",
   "id": "af2a80be",
   "metadata": {},
   "source": [
    "## 8) Parameterized-style filters\n",
    "Build queries safely by constructing dicts."
   ]
  },
  {
   "cell_type": "code",
   "execution_count": null,
   "id": "9b4d4eff",
   "metadata": {},
   "outputs": [],
   "source": [
    "def get_users_by_states(states):\n",
    "    q = {\"address.state\": {\"$in\": list(states)}}\n",
    "    proj = {\"_id\": 0, \"name\": 1, \"address\": 1}\n",
    "    return list(users.find(q, proj))\n",
    "\n",
    "get_users_by_states([\"TN\"])"
   ]
  },
  {
   "cell_type": "markdown",
   "id": "f4664b94",
   "metadata": {},
   "source": [
    "## 9) Mini-Exercises\n",
    "Write queries directly in the cells below."
   ]
  },
  {
   "cell_type": "markdown",
   "id": "33bc583c",
   "metadata": {},
   "source": [
    "Q1: Find orders with amount >= 50, return _id and amount, sorted by amount desc"
   ]
  },
  {
   "cell_type": "code",
   "execution_count": null,
   "id": "307e60c9",
   "metadata": {},
   "outputs": [],
   "source": []
  },
  {
   "cell_type": "markdown",
   "id": "1211b563",
   "metadata": {},
   "source": [
    "Q2: Aggregation: total amount per status, sorted by total desc"
   ]
  },
  {
   "cell_type": "code",
   "execution_count": null,
   "id": "9ba61117",
   "metadata": {},
   "outputs": [],
   "source": []
  },
  {
   "cell_type": "markdown",
   "id": "020fc85e",
   "metadata": {},
   "source": [
    "Q3: Using $lookup, list each order with user name"
   ]
  },
  {
   "cell_type": "code",
   "execution_count": null,
   "id": "556b29a2",
   "metadata": {},
   "outputs": [],
   "source": []
  },
  {
   "cell_type": "markdown",
   "id": "5b86cd51",
   "metadata": {},
   "source": [
    "## 10) Cleanup (optional)"
   ]
  },
  {
   "cell_type": "code",
   "execution_count": null,
   "id": "8034f9c9",
   "metadata": {},
   "outputs": [],
   "source": [
    "# Uncomment to drop the database when done\n",
    "# client.drop_database('data304_m6')\n",
    "print('Done.')"
   ]
  },
  {
   "cell_type": "markdown",
   "id": "eb0ddc67",
   "metadata": {},
   "source": [
    "---\n",
    "**End of Session 2 Notebook**\n",
    "\n",
    "Tips:\n",
    "- To use a real server locally, run MongoDB in Docker:\n",
    "  `docker run -d --name mdb -p 27017:27017 mongo:7`\n",
    "- Or set `MONGODB_URI` to a MongoDB Atlas connection string.\n",
    "- Then rerun the connection cell."
   ]
  }
 ],
 "metadata": {
  "kernelspec": {
   "display_name": "Python 3",
   "language": "python",
   "name": "python3"
  },
  "language_info": {
   "codemirror_mode": {
    "name": "ipython",
    "version": 3
   },
   "file_extension": ".py",
   "mimetype": "text/x-python",
   "name": "python",
   "nbconvert_exporter": "python",
   "pygments_lexer": "ipython3",
   "version": "3.12.11"
  }
 },
 "nbformat": 4,
 "nbformat_minor": 5
}
