{
 "cells": [
  {
   "cell_type": "markdown",
   "id": "192f546c",
   "metadata": {},
   "source": [
    "# DATA 304 – Module 6, Session 1\n",
    "\n",
    "## Relational Databases with SQLite: Import, Query, Join, Aggregate\n",
    "**Goal:** Load data into SQLite, practice SQL queries, joins, and aggregation from Python.\n",
    "\n",
    "**What you'll learn:**\n",
    "- Create and connect to a SQLite database\n",
    "- Import CSV data into tables\n",
    "- Run SELECT, WHERE, ORDER BY, GROUP BY, HAVING\n",
    "- Perform INNER and LEFT JOINs\n",
    "- Create indexes and use parameterized queries\n",
    "- Export results back to CSV\n",
    "\n",
    "**Prereqs:** Python 3, `pandas`"
   ]
  },
  {
   "cell_type": "markdown",
   "id": "b8707aa2",
   "metadata": {},
   "source": [
    "## 1) Setup"
   ]
  },
  {
   "cell_type": "code",
   "execution_count": 1,
   "id": "8515b327",
   "metadata": {},
   "outputs": [
    {
     "name": "stdout",
     "output_type": "stream",
     "text": [
      "2.2.2\n"
     ]
    }
   ],
   "source": [
    "import sqlite3\n",
    "import pandas as pd\n",
    "print(pd.__version__)"
   ]
  },
  {
   "cell_type": "markdown",
   "id": "ecca044a",
   "metadata": {},
   "source": [
    "## 2) Create SQLite DB and tables"
   ]
  },
  {
   "cell_type": "code",
   "execution_count": 2,
   "id": "20a78ee3",
   "metadata": {},
   "outputs": [
    {
     "name": "stdout",
     "output_type": "stream",
     "text": [
      "Tables created.\n"
     ]
    }
   ],
   "source": [
    "db_path = './data/module6_session1.db'\n",
    "conn = sqlite3.connect(db_path)\n",
    "cur = conn.cursor()\n",
    "\n",
    "cur.execute('DROP TABLE IF EXISTS employees;')\n",
    "cur.execute('DROP TABLE IF EXISTS departments;')\n",
    "\n",
    "cur.execute('''CREATE TABLE departments (\n",
    "    dept_id INTEGER PRIMARY KEY,\n",
    "    dept_name TEXT NOT NULL\n",
    ");''')\n",
    "\n",
    "cur.execute('''CREATE TABLE employees (\n",
    "    emp_id INTEGER PRIMARY KEY,\n",
    "    name   TEXT NOT NULL,\n",
    "    dept_id INTEGER,\n",
    "    salary REAL,\n",
    "    hire_date TEXT,\n",
    "    FOREIGN KEY(dept_id) REFERENCES departments(dept_id)\n",
    ");''')\n",
    "conn.commit()\n",
    "print('Tables created.')"
   ]
  },
  {
   "cell_type": "markdown",
   "id": "c27d218d",
   "metadata": {},
   "source": [
    "## 3) Load CSVs into tables"
   ]
  },
  {
   "cell_type": "code",
   "execution_count": 3,
   "id": "c1cd8b46",
   "metadata": {},
   "outputs": [
    {
     "data": {
      "text/html": [
       "<div>\n",
       "<style scoped>\n",
       "    .dataframe tbody tr th:only-of-type {\n",
       "        vertical-align: middle;\n",
       "    }\n",
       "\n",
       "    .dataframe tbody tr th {\n",
       "        vertical-align: top;\n",
       "    }\n",
       "\n",
       "    .dataframe thead th {\n",
       "        text-align: right;\n",
       "    }\n",
       "</style>\n",
       "<table border=\"1\" class=\"dataframe\">\n",
       "  <thead>\n",
       "    <tr style=\"text-align: right;\">\n",
       "      <th></th>\n",
       "      <th>emp_id</th>\n",
       "      <th>name</th>\n",
       "      <th>dept_id</th>\n",
       "      <th>salary</th>\n",
       "      <th>hire_date</th>\n",
       "    </tr>\n",
       "  </thead>\n",
       "  <tbody>\n",
       "    <tr>\n",
       "      <th>0</th>\n",
       "      <td>1</td>\n",
       "      <td>Alice</td>\n",
       "      <td>10</td>\n",
       "      <td>90000.0</td>\n",
       "      <td>2021-03-15</td>\n",
       "    </tr>\n",
       "    <tr>\n",
       "      <th>1</th>\n",
       "      <td>2</td>\n",
       "      <td>Bob</td>\n",
       "      <td>20</td>\n",
       "      <td>75000.0</td>\n",
       "      <td>2020-07-01</td>\n",
       "    </tr>\n",
       "    <tr>\n",
       "      <th>2</th>\n",
       "      <td>3</td>\n",
       "      <td>Carla</td>\n",
       "      <td>10</td>\n",
       "      <td>105000.0</td>\n",
       "      <td>2019-11-20</td>\n",
       "    </tr>\n",
       "    <tr>\n",
       "      <th>3</th>\n",
       "      <td>4</td>\n",
       "      <td>Dan</td>\n",
       "      <td>30</td>\n",
       "      <td>68000.0</td>\n",
       "      <td>2022-04-10</td>\n",
       "    </tr>\n",
       "    <tr>\n",
       "      <th>4</th>\n",
       "      <td>5</td>\n",
       "      <td>Eve</td>\n",
       "      <td>20</td>\n",
       "      <td>82000.0</td>\n",
       "      <td>2021-12-01</td>\n",
       "    </tr>\n",
       "  </tbody>\n",
       "</table>\n",
       "</div>"
      ],
      "text/plain": [
       "   emp_id   name  dept_id    salary   hire_date\n",
       "0       1  Alice       10   90000.0  2021-03-15\n",
       "1       2    Bob       20   75000.0  2020-07-01\n",
       "2       3  Carla       10  105000.0  2019-11-20\n",
       "3       4    Dan       30   68000.0  2022-04-10\n",
       "4       5    Eve       20   82000.0  2021-12-01"
      ]
     },
     "execution_count": 3,
     "metadata": {},
     "output_type": "execute_result"
    }
   ],
   "source": [
    "df_emp = pd.read_csv('data/employees.csv')\n",
    "df_dep = pd.read_csv('data/departments.csv')\n",
    "\n",
    "df_dep.to_sql('departments', conn, if_exists='append', index=False) #if_exists → 'fail' (default, error if table exists), 'replace' (drop & recreate), 'append' (insert rows).\n",
    "df_emp.to_sql('employees', conn, if_exists='append', index=False)\n",
    "\n",
    "pd.read_sql('SELECT * FROM employees LIMIT 5;', conn)"
   ]
  },
  {
   "cell_type": "markdown",
   "id": "e5330633",
   "metadata": {},
   "source": [
    "## 4) Basic SELECT, WHERE, ORDER BY"
   ]
  },
  {
   "cell_type": "code",
   "execution_count": 4,
   "id": "5d81a429",
   "metadata": {},
   "outputs": [
    {
     "data": {
      "text/html": [
       "<div>\n",
       "<style scoped>\n",
       "    .dataframe tbody tr th:only-of-type {\n",
       "        vertical-align: middle;\n",
       "    }\n",
       "\n",
       "    .dataframe tbody tr th {\n",
       "        vertical-align: top;\n",
       "    }\n",
       "\n",
       "    .dataframe thead th {\n",
       "        text-align: right;\n",
       "    }\n",
       "</style>\n",
       "<table border=\"1\" class=\"dataframe\">\n",
       "  <thead>\n",
       "    <tr style=\"text-align: right;\">\n",
       "      <th></th>\n",
       "      <th>emp_id</th>\n",
       "      <th>name</th>\n",
       "      <th>salary</th>\n",
       "    </tr>\n",
       "  </thead>\n",
       "  <tbody>\n",
       "    <tr>\n",
       "      <th>0</th>\n",
       "      <td>3</td>\n",
       "      <td>Carla</td>\n",
       "      <td>105000.0</td>\n",
       "    </tr>\n",
       "    <tr>\n",
       "      <th>1</th>\n",
       "      <td>1</td>\n",
       "      <td>Alice</td>\n",
       "      <td>90000.0</td>\n",
       "    </tr>\n",
       "    <tr>\n",
       "      <th>2</th>\n",
       "      <td>5</td>\n",
       "      <td>Eve</td>\n",
       "      <td>82000.0</td>\n",
       "    </tr>\n",
       "    <tr>\n",
       "      <th>3</th>\n",
       "      <td>2</td>\n",
       "      <td>Bob</td>\n",
       "      <td>75000.0</td>\n",
       "    </tr>\n",
       "    <tr>\n",
       "      <th>4</th>\n",
       "      <td>6</td>\n",
       "      <td>Fred</td>\n",
       "      <td>72000.0</td>\n",
       "    </tr>\n",
       "    <tr>\n",
       "      <th>5</th>\n",
       "      <td>4</td>\n",
       "      <td>Dan</td>\n",
       "      <td>68000.0</td>\n",
       "    </tr>\n",
       "  </tbody>\n",
       "</table>\n",
       "</div>"
      ],
      "text/plain": [
       "   emp_id   name    salary\n",
       "0       3  Carla  105000.0\n",
       "1       1  Alice   90000.0\n",
       "2       5    Eve   82000.0\n",
       "3       2    Bob   75000.0\n",
       "4       6   Fred   72000.0\n",
       "5       4    Dan   68000.0"
      ]
     },
     "execution_count": 4,
     "metadata": {},
     "output_type": "execute_result"
    }
   ],
   "source": [
    "pd.read_sql(''' \n",
    "                SELECT emp_id, name, salary\n",
    "                FROM employees\n",
    "                ORDER BY salary DESC;\n",
    "            ''', conn)"
   ]
  },
  {
   "cell_type": "code",
   "execution_count": 5,
   "id": "d295624b",
   "metadata": {},
   "outputs": [
    {
     "data": {
      "text/html": [
       "<div>\n",
       "<style scoped>\n",
       "    .dataframe tbody tr th:only-of-type {\n",
       "        vertical-align: middle;\n",
       "    }\n",
       "\n",
       "    .dataframe tbody tr th {\n",
       "        vertical-align: top;\n",
       "    }\n",
       "\n",
       "    .dataframe thead th {\n",
       "        text-align: right;\n",
       "    }\n",
       "</style>\n",
       "<table border=\"1\" class=\"dataframe\">\n",
       "  <thead>\n",
       "    <tr style=\"text-align: right;\">\n",
       "      <th></th>\n",
       "      <th>name</th>\n",
       "      <th>salary</th>\n",
       "    </tr>\n",
       "  </thead>\n",
       "  <tbody>\n",
       "    <tr>\n",
       "      <th>0</th>\n",
       "      <td>Carla</td>\n",
       "      <td>105000.0</td>\n",
       "    </tr>\n",
       "    <tr>\n",
       "      <th>1</th>\n",
       "      <td>Alice</td>\n",
       "      <td>90000.0</td>\n",
       "    </tr>\n",
       "    <tr>\n",
       "      <th>2</th>\n",
       "      <td>Eve</td>\n",
       "      <td>82000.0</td>\n",
       "    </tr>\n",
       "  </tbody>\n",
       "</table>\n",
       "</div>"
      ],
      "text/plain": [
       "    name    salary\n",
       "0  Carla  105000.0\n",
       "1  Alice   90000.0\n",
       "2    Eve   82000.0"
      ]
     },
     "execution_count": 5,
     "metadata": {},
     "output_type": "execute_result"
    }
   ],
   "source": [
    "pd.read_sql(''' \n",
    "                SELECT name, salary \n",
    "                FROM employees \n",
    "                WHERE salary >= 80000 \n",
    "                ORDER BY salary DESC;\n",
    "            ''', conn)"
   ]
  },
  {
   "cell_type": "markdown",
   "id": "b26de21a",
   "metadata": {},
   "source": [
    "## 5) Aggregation with GROUP BY and HAVING"
   ]
  },
  {
   "cell_type": "code",
   "execution_count": 6,
   "id": "bee4e721",
   "metadata": {},
   "outputs": [
    {
     "data": {
      "text/html": [
       "<div>\n",
       "<style scoped>\n",
       "    .dataframe tbody tr th:only-of-type {\n",
       "        vertical-align: middle;\n",
       "    }\n",
       "\n",
       "    .dataframe tbody tr th {\n",
       "        vertical-align: top;\n",
       "    }\n",
       "\n",
       "    .dataframe thead th {\n",
       "        text-align: right;\n",
       "    }\n",
       "</style>\n",
       "<table border=\"1\" class=\"dataframe\">\n",
       "  <thead>\n",
       "    <tr style=\"text-align: right;\">\n",
       "      <th></th>\n",
       "      <th>dept_id</th>\n",
       "      <th>n_emp</th>\n",
       "      <th>avg_salary</th>\n",
       "    </tr>\n",
       "  </thead>\n",
       "  <tbody>\n",
       "    <tr>\n",
       "      <th>0</th>\n",
       "      <td>10</td>\n",
       "      <td>2</td>\n",
       "      <td>97500.0</td>\n",
       "    </tr>\n",
       "    <tr>\n",
       "      <th>1</th>\n",
       "      <td>20</td>\n",
       "      <td>2</td>\n",
       "      <td>78500.0</td>\n",
       "    </tr>\n",
       "    <tr>\n",
       "      <th>2</th>\n",
       "      <td>30</td>\n",
       "      <td>2</td>\n",
       "      <td>70000.0</td>\n",
       "    </tr>\n",
       "  </tbody>\n",
       "</table>\n",
       "</div>"
      ],
      "text/plain": [
       "   dept_id  n_emp  avg_salary\n",
       "0       10      2     97500.0\n",
       "1       20      2     78500.0\n",
       "2       30      2     70000.0"
      ]
     },
     "execution_count": 6,
     "metadata": {},
     "output_type": "execute_result"
    }
   ],
   "source": [
    "pd.read_sql(''' \n",
    "                SELECT dept_id, COUNT(*) AS n_emp, AVG(salary) AS avg_salary\n",
    "                FROM employees\n",
    "                GROUP BY dept_id\n",
    "                ORDER BY avg_salary DESC;\n",
    "            ''', conn)"
   ]
  },
  {
   "cell_type": "code",
   "execution_count": 7,
   "id": "a041d569",
   "metadata": {},
   "outputs": [
    {
     "data": {
      "text/html": [
       "<div>\n",
       "<style scoped>\n",
       "    .dataframe tbody tr th:only-of-type {\n",
       "        vertical-align: middle;\n",
       "    }\n",
       "\n",
       "    .dataframe tbody tr th {\n",
       "        vertical-align: top;\n",
       "    }\n",
       "\n",
       "    .dataframe thead th {\n",
       "        text-align: right;\n",
       "    }\n",
       "</style>\n",
       "<table border=\"1\" class=\"dataframe\">\n",
       "  <thead>\n",
       "    <tr style=\"text-align: right;\">\n",
       "      <th></th>\n",
       "      <th>dept_id</th>\n",
       "      <th>n_emp</th>\n",
       "      <th>avg_salary</th>\n",
       "    </tr>\n",
       "  </thead>\n",
       "  <tbody>\n",
       "    <tr>\n",
       "      <th>0</th>\n",
       "      <td>10</td>\n",
       "      <td>2</td>\n",
       "      <td>97500.0</td>\n",
       "    </tr>\n",
       "  </tbody>\n",
       "</table>\n",
       "</div>"
      ],
      "text/plain": [
       "   dept_id  n_emp  avg_salary\n",
       "0       10      2     97500.0"
      ]
     },
     "execution_count": 7,
     "metadata": {},
     "output_type": "execute_result"
    }
   ],
   "source": [
    "pd.read_sql(''' \n",
    "                SELECT dept_id, COUNT(*) AS n_emp, AVG(salary) AS avg_salary\n",
    "                FROM employees\n",
    "                GROUP BY dept_id\n",
    "                HAVING AVG(salary) >= 80000;\n",
    "            ''', conn)"
   ]
  },
  {
   "cell_type": "code",
   "execution_count": 8,
   "id": "aadedf8c",
   "metadata": {},
   "outputs": [
    {
     "data": {
      "text/html": [
       "<div>\n",
       "<style scoped>\n",
       "    .dataframe tbody tr th:only-of-type {\n",
       "        vertical-align: middle;\n",
       "    }\n",
       "\n",
       "    .dataframe tbody tr th {\n",
       "        vertical-align: top;\n",
       "    }\n",
       "\n",
       "    .dataframe thead th {\n",
       "        text-align: right;\n",
       "    }\n",
       "</style>\n",
       "<table border=\"1\" class=\"dataframe\">\n",
       "  <thead>\n",
       "    <tr style=\"text-align: right;\">\n",
       "      <th></th>\n",
       "      <th>dept_id</th>\n",
       "      <th>n_emp</th>\n",
       "      <th>avg_salary</th>\n",
       "    </tr>\n",
       "  </thead>\n",
       "  <tbody>\n",
       "    <tr>\n",
       "      <th>0</th>\n",
       "      <td>10</td>\n",
       "      <td>2</td>\n",
       "      <td>97500.0</td>\n",
       "    </tr>\n",
       "    <tr>\n",
       "      <th>1</th>\n",
       "      <td>20</td>\n",
       "      <td>1</td>\n",
       "      <td>82000.0</td>\n",
       "    </tr>\n",
       "  </tbody>\n",
       "</table>\n",
       "</div>"
      ],
      "text/plain": [
       "   dept_id  n_emp  avg_salary\n",
       "0       10      2     97500.0\n",
       "1       20      1     82000.0"
      ]
     },
     "execution_count": 8,
     "metadata": {},
     "output_type": "execute_result"
    }
   ],
   "source": [
    "pd.read_sql(''' \n",
    "                SELECT dept_id, COUNT(*) AS n_emp, AVG(salary) AS avg_salary\n",
    "                FROM employees\n",
    "                WHERE salary >=80000\n",
    "                GROUP BY dept_id;\n",
    "            ''', conn)"
   ]
  },
  {
   "cell_type": "code",
   "execution_count": 9,
   "id": "bff9914f",
   "metadata": {},
   "outputs": [
    {
     "data": {
      "text/html": [
       "<div>\n",
       "<style scoped>\n",
       "    .dataframe tbody tr th:only-of-type {\n",
       "        vertical-align: middle;\n",
       "    }\n",
       "\n",
       "    .dataframe tbody tr th {\n",
       "        vertical-align: top;\n",
       "    }\n",
       "\n",
       "    .dataframe thead th {\n",
       "        text-align: right;\n",
       "    }\n",
       "</style>\n",
       "<table border=\"1\" class=\"dataframe\">\n",
       "  <thead>\n",
       "    <tr style=\"text-align: right;\">\n",
       "      <th></th>\n",
       "      <th>dept_id</th>\n",
       "      <th>n_emp</th>\n",
       "      <th>avg_salary</th>\n",
       "    </tr>\n",
       "  </thead>\n",
       "  <tbody>\n",
       "    <tr>\n",
       "      <th>0</th>\n",
       "      <td>10</td>\n",
       "      <td>2</td>\n",
       "      <td>97500.0</td>\n",
       "    </tr>\n",
       "    <tr>\n",
       "      <th>1</th>\n",
       "      <td>20</td>\n",
       "      <td>1</td>\n",
       "      <td>82000.0</td>\n",
       "    </tr>\n",
       "  </tbody>\n",
       "</table>\n",
       "</div>"
      ],
      "text/plain": [
       "   dept_id  n_emp  avg_salary\n",
       "0       10      2     97500.0\n",
       "1       20      1     82000.0"
      ]
     },
     "execution_count": 9,
     "metadata": {},
     "output_type": "execute_result"
    }
   ],
   "source": [
    "pd.read_sql(''' \n",
    "                SELECT dept_id, COUNT(*) AS n_emp, AVG(salary) AS avg_salary\n",
    "                FROM employees\n",
    "                WHERE salary >= 80000\n",
    "                GROUP BY dept_id\n",
    "                HAVING AVG(salary) >= 80000;\n",
    "            ''', conn)"
   ]
  },
  {
   "cell_type": "markdown",
   "id": "5a6b3278",
   "metadata": {},
   "source": [
    "## 6) Joins"
   ]
  },
  {
   "cell_type": "code",
   "execution_count": 10,
   "id": "5796d166",
   "metadata": {},
   "outputs": [
    {
     "data": {
      "text/html": [
       "<div>\n",
       "<style scoped>\n",
       "    .dataframe tbody tr th:only-of-type {\n",
       "        vertical-align: middle;\n",
       "    }\n",
       "\n",
       "    .dataframe tbody tr th {\n",
       "        vertical-align: top;\n",
       "    }\n",
       "\n",
       "    .dataframe thead th {\n",
       "        text-align: right;\n",
       "    }\n",
       "</style>\n",
       "<table border=\"1\" class=\"dataframe\">\n",
       "  <thead>\n",
       "    <tr style=\"text-align: right;\">\n",
       "      <th></th>\n",
       "      <th>emp_id</th>\n",
       "      <th>name</th>\n",
       "      <th>dept_name</th>\n",
       "      <th>salary</th>\n",
       "    </tr>\n",
       "  </thead>\n",
       "  <tbody>\n",
       "    <tr>\n",
       "      <th>0</th>\n",
       "      <td>1</td>\n",
       "      <td>Alice</td>\n",
       "      <td>Engineering</td>\n",
       "      <td>90000.0</td>\n",
       "    </tr>\n",
       "    <tr>\n",
       "      <th>1</th>\n",
       "      <td>2</td>\n",
       "      <td>Bob</td>\n",
       "      <td>Marketing</td>\n",
       "      <td>75000.0</td>\n",
       "    </tr>\n",
       "    <tr>\n",
       "      <th>2</th>\n",
       "      <td>3</td>\n",
       "      <td>Carla</td>\n",
       "      <td>Engineering</td>\n",
       "      <td>105000.0</td>\n",
       "    </tr>\n",
       "    <tr>\n",
       "      <th>3</th>\n",
       "      <td>4</td>\n",
       "      <td>Dan</td>\n",
       "      <td>Finance</td>\n",
       "      <td>68000.0</td>\n",
       "    </tr>\n",
       "    <tr>\n",
       "      <th>4</th>\n",
       "      <td>5</td>\n",
       "      <td>Eve</td>\n",
       "      <td>Marketing</td>\n",
       "      <td>82000.0</td>\n",
       "    </tr>\n",
       "    <tr>\n",
       "      <th>5</th>\n",
       "      <td>6</td>\n",
       "      <td>Fred</td>\n",
       "      <td>Finance</td>\n",
       "      <td>72000.0</td>\n",
       "    </tr>\n",
       "  </tbody>\n",
       "</table>\n",
       "</div>"
      ],
      "text/plain": [
       "   emp_id   name    dept_name    salary\n",
       "0       1  Alice  Engineering   90000.0\n",
       "1       2    Bob    Marketing   75000.0\n",
       "2       3  Carla  Engineering  105000.0\n",
       "3       4    Dan      Finance   68000.0\n",
       "4       5    Eve    Marketing   82000.0\n",
       "5       6   Fred      Finance   72000.0"
      ]
     },
     "execution_count": 10,
     "metadata": {},
     "output_type": "execute_result"
    }
   ],
   "source": [
    "pd.read_sql('''\n",
    "                SELECT e.emp_id, e.name, d.dept_name, e.salary\n",
    "                FROM employees e\n",
    "                INNER JOIN departments d ON e.dept_id = d.dept_id\n",
    "                ORDER BY e.emp_id;\n",
    "            ''', conn)"
   ]
  },
  {
   "cell_type": "code",
   "execution_count": 11,
   "id": "1f1385e6",
   "metadata": {},
   "outputs": [
    {
     "data": {
      "text/html": [
       "<div>\n",
       "<style scoped>\n",
       "    .dataframe tbody tr th:only-of-type {\n",
       "        vertical-align: middle;\n",
       "    }\n",
       "\n",
       "    .dataframe tbody tr th {\n",
       "        vertical-align: top;\n",
       "    }\n",
       "\n",
       "    .dataframe thead th {\n",
       "        text-align: right;\n",
       "    }\n",
       "</style>\n",
       "<table border=\"1\" class=\"dataframe\">\n",
       "  <thead>\n",
       "    <tr style=\"text-align: right;\">\n",
       "      <th></th>\n",
       "      <th>dept_id</th>\n",
       "      <th>dept_name</th>\n",
       "      <th>emp_id</th>\n",
       "      <th>name</th>\n",
       "    </tr>\n",
       "  </thead>\n",
       "  <tbody>\n",
       "    <tr>\n",
       "      <th>0</th>\n",
       "      <td>10</td>\n",
       "      <td>Engineering</td>\n",
       "      <td>1.0</td>\n",
       "      <td>Alice</td>\n",
       "    </tr>\n",
       "    <tr>\n",
       "      <th>1</th>\n",
       "      <td>10</td>\n",
       "      <td>Engineering</td>\n",
       "      <td>3.0</td>\n",
       "      <td>Carla</td>\n",
       "    </tr>\n",
       "    <tr>\n",
       "      <th>2</th>\n",
       "      <td>20</td>\n",
       "      <td>Marketing</td>\n",
       "      <td>2.0</td>\n",
       "      <td>Bob</td>\n",
       "    </tr>\n",
       "    <tr>\n",
       "      <th>3</th>\n",
       "      <td>20</td>\n",
       "      <td>Marketing</td>\n",
       "      <td>5.0</td>\n",
       "      <td>Eve</td>\n",
       "    </tr>\n",
       "    <tr>\n",
       "      <th>4</th>\n",
       "      <td>30</td>\n",
       "      <td>Finance</td>\n",
       "      <td>4.0</td>\n",
       "      <td>Dan</td>\n",
       "    </tr>\n",
       "    <tr>\n",
       "      <th>5</th>\n",
       "      <td>30</td>\n",
       "      <td>Finance</td>\n",
       "      <td>6.0</td>\n",
       "      <td>Fred</td>\n",
       "    </tr>\n",
       "    <tr>\n",
       "      <th>6</th>\n",
       "      <td>40</td>\n",
       "      <td>HR</td>\n",
       "      <td>NaN</td>\n",
       "      <td>None</td>\n",
       "    </tr>\n",
       "  </tbody>\n",
       "</table>\n",
       "</div>"
      ],
      "text/plain": [
       "   dept_id    dept_name  emp_id   name\n",
       "0       10  Engineering     1.0  Alice\n",
       "1       10  Engineering     3.0  Carla\n",
       "2       20    Marketing     2.0    Bob\n",
       "3       20    Marketing     5.0    Eve\n",
       "4       30      Finance     4.0    Dan\n",
       "5       30      Finance     6.0   Fred\n",
       "6       40           HR     NaN   None"
      ]
     },
     "execution_count": 11,
     "metadata": {},
     "output_type": "execute_result"
    }
   ],
   "source": [
    "pd.read_sql('''\n",
    "                SELECT d.dept_id, d.dept_name, e.emp_id, e.name\n",
    "                FROM departments d\n",
    "                LEFT JOIN employees e ON e.dept_id = d.dept_id\n",
    "                ORDER BY d.dept_id;\n",
    "            ''', conn)"
   ]
  },
  {
   "cell_type": "markdown",
   "id": "ca786315",
   "metadata": {},
   "source": [
    "## 7) Parameterized queries"
   ]
  },
  {
   "cell_type": "code",
   "execution_count": 12,
   "id": "1292c9e4",
   "metadata": {},
   "outputs": [
    {
     "data": {
      "text/html": [
       "<div>\n",
       "<style scoped>\n",
       "    .dataframe tbody tr th:only-of-type {\n",
       "        vertical-align: middle;\n",
       "    }\n",
       "\n",
       "    .dataframe tbody tr th {\n",
       "        vertical-align: top;\n",
       "    }\n",
       "\n",
       "    .dataframe thead th {\n",
       "        text-align: right;\n",
       "    }\n",
       "</style>\n",
       "<table border=\"1\" class=\"dataframe\">\n",
       "  <thead>\n",
       "    <tr style=\"text-align: right;\">\n",
       "      <th></th>\n",
       "      <th>name</th>\n",
       "      <th>salary</th>\n",
       "    </tr>\n",
       "  </thead>\n",
       "  <tbody>\n",
       "    <tr>\n",
       "      <th>0</th>\n",
       "      <td>Carla</td>\n",
       "      <td>105000.0</td>\n",
       "    </tr>\n",
       "    <tr>\n",
       "      <th>1</th>\n",
       "      <td>Alice</td>\n",
       "      <td>90000.0</td>\n",
       "    </tr>\n",
       "    <tr>\n",
       "      <th>2</th>\n",
       "      <td>Eve</td>\n",
       "      <td>82000.0</td>\n",
       "    </tr>\n",
       "  </tbody>\n",
       "</table>\n",
       "</div>"
      ],
      "text/plain": [
       "    name    salary\n",
       "0  Carla  105000.0\n",
       "1  Alice   90000.0\n",
       "2    Eve   82000.0"
      ]
     },
     "execution_count": 12,
     "metadata": {},
     "output_type": "execute_result"
    }
   ],
   "source": [
    "min_salary = 80000\n",
    "sql = 'SELECT name, salary FROM employees WHERE salary >= ? ORDER BY salary DESC;'\n",
    "pd.read_sql(sql, conn, params=(min_salary,))"
   ]
  },
  {
   "cell_type": "code",
   "execution_count": 13,
   "id": "6686d9f5",
   "metadata": {},
   "outputs": [
    {
     "data": {
      "text/html": [
       "<div>\n",
       "<style scoped>\n",
       "    .dataframe tbody tr th:only-of-type {\n",
       "        vertical-align: middle;\n",
       "    }\n",
       "\n",
       "    .dataframe tbody tr th {\n",
       "        vertical-align: top;\n",
       "    }\n",
       "\n",
       "    .dataframe thead th {\n",
       "        text-align: right;\n",
       "    }\n",
       "</style>\n",
       "<table border=\"1\" class=\"dataframe\">\n",
       "  <thead>\n",
       "    <tr style=\"text-align: right;\">\n",
       "      <th></th>\n",
       "      <th>name</th>\n",
       "      <th>salary</th>\n",
       "    </tr>\n",
       "  </thead>\n",
       "  <tbody>\n",
       "    <tr>\n",
       "      <th>0</th>\n",
       "      <td>Alice</td>\n",
       "      <td>90000.0</td>\n",
       "    </tr>\n",
       "    <tr>\n",
       "      <th>1</th>\n",
       "      <td>Eve</td>\n",
       "      <td>82000.0</td>\n",
       "    </tr>\n",
       "  </tbody>\n",
       "</table>\n",
       "</div>"
      ],
      "text/plain": [
       "    name   salary\n",
       "0  Alice  90000.0\n",
       "1    Eve  82000.0"
      ]
     },
     "execution_count": 13,
     "metadata": {},
     "output_type": "execute_result"
    }
   ],
   "source": [
    "min_salary = 80000\n",
    "max_salary = 100000\n",
    "sql = 'SELECT name, salary FROM employees WHERE salary >= ? AND salary < ? ORDER BY salary DESC;'\n",
    "pd.read_sql(sql, conn, params=(min_salary, max_salary,))"
   ]
  },
  {
   "cell_type": "markdown",
   "id": "a0b7f127",
   "metadata": {},
   "source": [
    "## 8) Indexes and EXPLAIN QUERY PLAN"
   ]
  },
  {
   "cell_type": "code",
   "execution_count": 14,
   "id": "28dbf6e0",
   "metadata": {},
   "outputs": [
    {
     "data": {
      "text/html": [
       "<div>\n",
       "<style scoped>\n",
       "    .dataframe tbody tr th:only-of-type {\n",
       "        vertical-align: middle;\n",
       "    }\n",
       "\n",
       "    .dataframe tbody tr th {\n",
       "        vertical-align: top;\n",
       "    }\n",
       "\n",
       "    .dataframe thead th {\n",
       "        text-align: right;\n",
       "    }\n",
       "</style>\n",
       "<table border=\"1\" class=\"dataframe\">\n",
       "  <thead>\n",
       "    <tr style=\"text-align: right;\">\n",
       "      <th></th>\n",
       "      <th>id</th>\n",
       "      <th>parent</th>\n",
       "      <th>notused</th>\n",
       "      <th>detail</th>\n",
       "    </tr>\n",
       "  </thead>\n",
       "  <tbody>\n",
       "    <tr>\n",
       "      <th>0</th>\n",
       "      <td>2</td>\n",
       "      <td>0</td>\n",
       "      <td>0</td>\n",
       "      <td>SCAN employees</td>\n",
       "    </tr>\n",
       "  </tbody>\n",
       "</table>\n",
       "</div>"
      ],
      "text/plain": [
       "   id  parent  notused          detail\n",
       "0   2       0        0  SCAN employees"
      ]
     },
     "execution_count": 14,
     "metadata": {},
     "output_type": "execute_result"
    }
   ],
   "source": [
    "pd.read_sql('EXPLAIN QUERY PLAN SELECT name FROM employees WHERE salary >= 80000;', conn)"
   ]
  },
  {
   "cell_type": "code",
   "execution_count": 15,
   "id": "ec6a8875",
   "metadata": {},
   "outputs": [
    {
     "data": {
      "text/html": [
       "<div>\n",
       "<style scoped>\n",
       "    .dataframe tbody tr th:only-of-type {\n",
       "        vertical-align: middle;\n",
       "    }\n",
       "\n",
       "    .dataframe tbody tr th {\n",
       "        vertical-align: top;\n",
       "    }\n",
       "\n",
       "    .dataframe thead th {\n",
       "        text-align: right;\n",
       "    }\n",
       "</style>\n",
       "<table border=\"1\" class=\"dataframe\">\n",
       "  <thead>\n",
       "    <tr style=\"text-align: right;\">\n",
       "      <th></th>\n",
       "      <th>id</th>\n",
       "      <th>parent</th>\n",
       "      <th>notused</th>\n",
       "      <th>detail</th>\n",
       "    </tr>\n",
       "  </thead>\n",
       "  <tbody>\n",
       "    <tr>\n",
       "      <th>0</th>\n",
       "      <td>3</td>\n",
       "      <td>0</td>\n",
       "      <td>0</td>\n",
       "      <td>SEARCH employees USING INDEX idx_emp_salary (s...</td>\n",
       "    </tr>\n",
       "  </tbody>\n",
       "</table>\n",
       "</div>"
      ],
      "text/plain": [
       "   id  parent  notused                                             detail\n",
       "0   3       0        0  SEARCH employees USING INDEX idx_emp_salary (s..."
      ]
     },
     "execution_count": 15,
     "metadata": {},
     "output_type": "execute_result"
    }
   ],
   "source": [
    "cur.execute('CREATE INDEX IF NOT EXISTS idx_emp_salary ON employees(salary);')\n",
    "conn.commit()\n",
    "pd.read_sql('EXPLAIN QUERY PLAN SELECT name FROM employees WHERE salary >= 80000;', conn)"
   ]
  },
  {
   "cell_type": "markdown",
   "id": "3abb29b7",
   "metadata": {},
   "source": [
    "## 9) Export results"
   ]
  },
  {
   "cell_type": "code",
   "execution_count": 16,
   "id": "f0b4364c",
   "metadata": {},
   "outputs": [
    {
     "data": {
      "text/html": [
       "<div>\n",
       "<style scoped>\n",
       "    .dataframe tbody tr th:only-of-type {\n",
       "        vertical-align: middle;\n",
       "    }\n",
       "\n",
       "    .dataframe tbody tr th {\n",
       "        vertical-align: top;\n",
       "    }\n",
       "\n",
       "    .dataframe thead th {\n",
       "        text-align: right;\n",
       "    }\n",
       "</style>\n",
       "<table border=\"1\" class=\"dataframe\">\n",
       "  <thead>\n",
       "    <tr style=\"text-align: right;\">\n",
       "      <th></th>\n",
       "      <th>name</th>\n",
       "      <th>salary</th>\n",
       "    </tr>\n",
       "  </thead>\n",
       "  <tbody>\n",
       "    <tr>\n",
       "      <th>0</th>\n",
       "      <td>Eve</td>\n",
       "      <td>82000.0</td>\n",
       "    </tr>\n",
       "    <tr>\n",
       "      <th>1</th>\n",
       "      <td>Alice</td>\n",
       "      <td>90000.0</td>\n",
       "    </tr>\n",
       "    <tr>\n",
       "      <th>2</th>\n",
       "      <td>Carla</td>\n",
       "      <td>105000.0</td>\n",
       "    </tr>\n",
       "  </tbody>\n",
       "</table>\n",
       "</div>"
      ],
      "text/plain": [
       "    name    salary\n",
       "0    Eve   82000.0\n",
       "1  Alice   90000.0\n",
       "2  Carla  105000.0"
      ]
     },
     "execution_count": 16,
     "metadata": {},
     "output_type": "execute_result"
    }
   ],
   "source": [
    "res = pd.read_sql('SELECT name, salary FROM employees WHERE salary >= 80000;', conn)\n",
    "res.to_csv('data/high_paid.csv', index=False)\n",
    "res.head()"
   ]
  },
  {
   "cell_type": "markdown",
   "id": "ab4d592d",
   "metadata": {},
   "source": [
    "## 10) Mini-exercises"
   ]
  },
  {
   "cell_type": "markdown",
   "id": "30ee0498",
   "metadata": {},
   "source": [
    "1. List employees hired in or after 2021"
   ]
  },
  {
   "cell_type": "code",
   "execution_count": 17,
   "id": "e1dab216",
   "metadata": {},
   "outputs": [
    {
     "data": {
      "text/html": [
       "<div>\n",
       "<style scoped>\n",
       "    .dataframe tbody tr th:only-of-type {\n",
       "        vertical-align: middle;\n",
       "    }\n",
       "\n",
       "    .dataframe tbody tr th {\n",
       "        vertical-align: top;\n",
       "    }\n",
       "\n",
       "    .dataframe thead th {\n",
       "        text-align: right;\n",
       "    }\n",
       "</style>\n",
       "<table border=\"1\" class=\"dataframe\">\n",
       "  <thead>\n",
       "    <tr style=\"text-align: right;\">\n",
       "      <th></th>\n",
       "      <th>emp_id</th>\n",
       "      <th>name</th>\n",
       "      <th>hire_date</th>\n",
       "    </tr>\n",
       "  </thead>\n",
       "  <tbody>\n",
       "    <tr>\n",
       "      <th>0</th>\n",
       "      <td>1</td>\n",
       "      <td>Alice</td>\n",
       "      <td>2021-03-15</td>\n",
       "    </tr>\n",
       "    <tr>\n",
       "      <th>1</th>\n",
       "      <td>5</td>\n",
       "      <td>Eve</td>\n",
       "      <td>2021-12-01</td>\n",
       "    </tr>\n",
       "    <tr>\n",
       "      <th>2</th>\n",
       "      <td>4</td>\n",
       "      <td>Dan</td>\n",
       "      <td>2022-04-10</td>\n",
       "    </tr>\n",
       "  </tbody>\n",
       "</table>\n",
       "</div>"
      ],
      "text/plain": [
       "   emp_id   name   hire_date\n",
       "0       1  Alice  2021-03-15\n",
       "1       5    Eve  2021-12-01\n",
       "2       4    Dan  2022-04-10"
      ]
     },
     "execution_count": 17,
     "metadata": {},
     "output_type": "execute_result"
    }
   ],
   "source": [
    "pd.read_sql('''\n",
    "                SELECT emp_id, name, hire_date \n",
    "                FROM employees\n",
    "                WHERE hire_date >= \"2021-01-01\"\n",
    "                ORDER BY hire_date;\n",
    "            ''', conn)"
   ]
  },
  {
   "cell_type": "markdown",
   "id": "c922b601",
   "metadata": {},
   "source": [
    "2. Total payroll per department"
   ]
  },
  {
   "cell_type": "code",
   "execution_count": 18,
   "id": "88acbd5c",
   "metadata": {},
   "outputs": [
    {
     "data": {
      "text/html": [
       "<div>\n",
       "<style scoped>\n",
       "    .dataframe tbody tr th:only-of-type {\n",
       "        vertical-align: middle;\n",
       "    }\n",
       "\n",
       "    .dataframe tbody tr th {\n",
       "        vertical-align: top;\n",
       "    }\n",
       "\n",
       "    .dataframe thead th {\n",
       "        text-align: right;\n",
       "    }\n",
       "</style>\n",
       "<table border=\"1\" class=\"dataframe\">\n",
       "  <thead>\n",
       "    <tr style=\"text-align: right;\">\n",
       "      <th></th>\n",
       "      <th>dept_name</th>\n",
       "      <th>total_salary</th>\n",
       "    </tr>\n",
       "  </thead>\n",
       "  <tbody>\n",
       "    <tr>\n",
       "      <th>0</th>\n",
       "      <td>Engineering</td>\n",
       "      <td>195000.0</td>\n",
       "    </tr>\n",
       "    <tr>\n",
       "      <th>1</th>\n",
       "      <td>Marketing</td>\n",
       "      <td>157000.0</td>\n",
       "    </tr>\n",
       "    <tr>\n",
       "      <th>2</th>\n",
       "      <td>Finance</td>\n",
       "      <td>140000.0</td>\n",
       "    </tr>\n",
       "  </tbody>\n",
       "</table>\n",
       "</div>"
      ],
      "text/plain": [
       "     dept_name  total_salary\n",
       "0  Engineering      195000.0\n",
       "1    Marketing      157000.0\n",
       "2      Finance      140000.0"
      ]
     },
     "execution_count": 18,
     "metadata": {},
     "output_type": "execute_result"
    }
   ],
   "source": [
    "pd.read_sql('''\n",
    "                SELECT d.dept_name, SUM(e.salary) AS total_salary\n",
    "                FROM employees e\n",
    "                JOIN departments d ON e.dept_id = d.dept_id\n",
    "                GROUP BY d.dept_name\n",
    "                ORDER BY total_salary DESC;\n",
    "            ''', conn)"
   ]
  },
  {
   "cell_type": "markdown",
   "id": "7dec667e",
   "metadata": {},
   "source": [
    "3. Departments with zero employees"
   ]
  },
  {
   "cell_type": "code",
   "execution_count": 19,
   "id": "8a6aea39",
   "metadata": {},
   "outputs": [
    {
     "data": {
      "text/html": [
       "<div>\n",
       "<style scoped>\n",
       "    .dataframe tbody tr th:only-of-type {\n",
       "        vertical-align: middle;\n",
       "    }\n",
       "\n",
       "    .dataframe tbody tr th {\n",
       "        vertical-align: top;\n",
       "    }\n",
       "\n",
       "    .dataframe thead th {\n",
       "        text-align: right;\n",
       "    }\n",
       "</style>\n",
       "<table border=\"1\" class=\"dataframe\">\n",
       "  <thead>\n",
       "    <tr style=\"text-align: right;\">\n",
       "      <th></th>\n",
       "      <th>dept_id</th>\n",
       "      <th>dept_name</th>\n",
       "    </tr>\n",
       "  </thead>\n",
       "  <tbody>\n",
       "    <tr>\n",
       "      <th>0</th>\n",
       "      <td>40</td>\n",
       "      <td>HR</td>\n",
       "    </tr>\n",
       "  </tbody>\n",
       "</table>\n",
       "</div>"
      ],
      "text/plain": [
       "   dept_id dept_name\n",
       "0       40        HR"
      ]
     },
     "execution_count": 19,
     "metadata": {},
     "output_type": "execute_result"
    }
   ],
   "source": [
    "pd.read_sql('''\n",
    "                SELECT d.dept_id, d.dept_name\n",
    "                FROM departments d\n",
    "                LEFT JOIN employees e ON e.dept_id = d.dept_id\n",
    "                WHERE e.emp_id IS NULL;\n",
    "            ''', conn)"
   ]
  },
  {
   "cell_type": "code",
   "execution_count": 20,
   "id": "517aad2e",
   "metadata": {},
   "outputs": [
    {
     "data": {
      "text/html": [
       "<div>\n",
       "<style scoped>\n",
       "    .dataframe tbody tr th:only-of-type {\n",
       "        vertical-align: middle;\n",
       "    }\n",
       "\n",
       "    .dataframe tbody tr th {\n",
       "        vertical-align: top;\n",
       "    }\n",
       "\n",
       "    .dataframe thead th {\n",
       "        text-align: right;\n",
       "    }\n",
       "</style>\n",
       "<table border=\"1\" class=\"dataframe\">\n",
       "  <thead>\n",
       "    <tr style=\"text-align: right;\">\n",
       "      <th></th>\n",
       "      <th>dept_id</th>\n",
       "      <th>dept_name</th>\n",
       "      <th>count</th>\n",
       "    </tr>\n",
       "  </thead>\n",
       "  <tbody>\n",
       "    <tr>\n",
       "      <th>0</th>\n",
       "      <td>40</td>\n",
       "      <td>HR</td>\n",
       "      <td>0</td>\n",
       "    </tr>\n",
       "  </tbody>\n",
       "</table>\n",
       "</div>"
      ],
      "text/plain": [
       "   dept_id dept_name  count\n",
       "0       40        HR      0"
      ]
     },
     "execution_count": 20,
     "metadata": {},
     "output_type": "execute_result"
    }
   ],
   "source": [
    "pd.read_sql('''\n",
    "                SELECT d.dept_id, d.dept_name, COUNT(e.emp_id) as count\n",
    "                FROM departments d\n",
    "                LEFT JOIN employees e ON e.dept_id = d.dept_id\n",
    "                GROUP BY d.dept_id\n",
    "                HAVING count = 0;\n",
    "            ''', conn)"
   ]
  },
  {
   "cell_type": "markdown",
   "id": "6621ee11",
   "metadata": {},
   "source": [
    "## 11) Close connection"
   ]
  },
  {
   "cell_type": "code",
   "execution_count": 21,
   "id": "4c7f739d",
   "metadata": {},
   "outputs": [],
   "source": [
    "conn.close()"
   ]
  }
 ],
 "metadata": {
  "kernelspec": {
   "display_name": "Python 3",
   "language": "python",
   "name": "python3"
  },
  "language_info": {
   "codemirror_mode": {
    "name": "ipython",
    "version": 3
   },
   "file_extension": ".py",
   "mimetype": "text/x-python",
   "name": "python",
   "nbconvert_exporter": "python",
   "pygments_lexer": "ipython3",
   "version": "3.12.11"
  }
 },
 "nbformat": 4,
 "nbformat_minor": 5
}
