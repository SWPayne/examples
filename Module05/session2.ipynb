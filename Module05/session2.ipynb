{
 "cells": [
  {
   "cell_type": "markdown",
   "id": "cee0266a",
   "metadata": {},
   "source": [
    "\n",
    "# Module 5 · Session 2 — PDF & Messy Document Extraction Demo\n",
    "\n",
    "This notebook demonstrates practical PDF data extraction workflows in Python:\n",
    "- Inspect PDFs and metadata\n",
    "- Extract text and tables from **text-based** PDFs\n",
    "- Handle **scanned image** PDFs with OCR\n",
    "- Package extraction into reusable functions\n",
    "- Validate and clean outputs\n"
   ]
  },
  {
   "cell_type": "code",
   "execution_count": 1,
   "id": "895ea403",
   "metadata": {},
   "outputs": [
    {
     "name": "stdout",
     "output_type": "stream",
     "text": [
      "openjdk version \"21.0.8\" 2025-07-15\n",
      "OpenJDK Runtime Environment (build 21.0.8+9-Debian-1)\n",
      "OpenJDK 64-Bit Server VM (build 21.0.8+9-Debian-1, mixed mode, sharing)\n"
     ]
    }
   ],
   "source": [
    "# !sudo apt-get update\n",
    "# !sudo apt-get install -y default-jre\n",
    "!java -version"
   ]
  },
  {
   "cell_type": "markdown",
   "id": "34553405",
   "metadata": {},
   "source": [
    "## 0) Environment setup"
   ]
  },
  {
   "cell_type": "code",
   "execution_count": null,
   "id": "d470976f",
   "metadata": {},
   "outputs": [
    {
     "name": "stdout",
     "output_type": "stream",
     "text": [
      "PyPDF2: True\n",
      "pdfplumber: True\n",
      "tabula: True\n",
      "pdf2image: True\n",
      "pytesseract: True\n"
     ]
    }
   ],
   "source": [
    "\n",
    "# If running on a fresh environment, uncomment installs as needed.\n",
    "# %pip install --quiet PyPDF2 pdfplumber tabula-py pytesseract pdf2image pandas pillow poppler-utils tesseract-ocr jpype1\n",
    "\n",
    "import os, sys, io, json, re, math, shutil, tempfile, pathlib\n",
    "from pathlib import Path\n",
    "\n",
    "import pandas as pd\n",
    "\n",
    "# Optional imports gated by availability\n",
    "try:\n",
    "    from PyPDF2 import PdfReader\n",
    "except Exception as e:\n",
    "    PdfReader = None\n",
    "\n",
    "try:\n",
    "    import pdfplumber\n",
    "except Exception as e:\n",
    "    pdfplumber = None\n",
    "\n",
    "try:\n",
    "    import tabula  # requires Java installed\n",
    "except Exception as e:\n",
    "    tabula = None\n",
    "\n",
    "# OCR dependencies (optional)\n",
    "try:\n",
    "    from pdf2image import convert_from_path\n",
    "    import pytesseract\n",
    "    from PIL import Image\n",
    "except Exception as e:\n",
    "    convert_from_path = None\n",
    "    pytesseract = None\n",
    "\n",
    "print(\"PyPDF2:\", bool(PdfReader))\n",
    "print(\"pdfplumber:\", bool(pdfplumber))\n",
    "print(\"tabula:\", bool(tabula))\n",
    "print(\"pdf2image:\", bool(convert_from_path))\n",
    "print(\"pytesseract:\", bool(pytesseract))\n"
   ]
  },
  {
   "cell_type": "markdown",
   "id": "7aec409a",
   "metadata": {},
   "source": [
    "## 1) Choose a PDF"
   ]
  },
  {
   "cell_type": "code",
   "execution_count": 6,
   "id": "e69acfd6",
   "metadata": {},
   "outputs": [
    {
     "name": "stdout",
     "output_type": "stream",
     "text": [
      "Target PDF: ./data/session2_demo.pdf\n"
     ]
    }
   ],
   "source": [
    "PDF_PATH1 = \"./data/session2_demo.pdf\"  \n",
    "assert isinstance(PDF_PATH1, str) and len(PDF_PATH1) > 0\n",
    "print(\"Target PDF:\", PDF_PATH1)\n",
    "PDF_PATH2 = \"./data/pdf_demo_landscape.pdf\"  \n",
    "PDF_PATH3 = \"./data/pdf_demo_multi_page.pdf\"  \n",
    "PDF_PATH4 = \"./data/pdf_demo_simple_table.pdf\"  "
   ]
  },
  {
   "cell_type": "markdown",
   "id": "873de266",
   "metadata": {},
   "source": [
    "## 2) Quick inspection with PyPDF2"
   ]
  },
  {
   "cell_type": "code",
   "execution_count": 11,
   "id": "f1d443c3",
   "metadata": {},
   "outputs": [
    {
     "name": "stdout",
     "output_type": "stream",
     "text": [
      "Pages: 2\n",
      "Metadata keys: ['/Author', '/CreationDate', '/Creator', '/Keywords', '/ModDate', '/Producer', '/Subject', '/Title', '/Trapped']\n",
      "First page text preview:\n",
      " Financials Q1\n",
      "Department\n",
      "Budget\n",
      "Spent\n",
      "HR\n",
      "$100,000\n",
      "$95,000\n",
      "IT\n",
      "$250,000\n",
      "$200,000\n",
      "Marketing\n",
      "$150,000\n",
      "$175,000\n",
      "\n"
     ]
    }
   ],
   "source": [
    "\n",
    "if PdfReader is None:\n",
    "    print(\"PyPDF2 not available. Install it with: %pip install PyPDF2\")\n",
    "else:\n",
    "    try:\n",
    "        reader = PdfReader(PDF_PATH3)\n",
    "        print(\"Pages:\", len(reader.pages))\n",
    "        meta = reader.metadata or {}\n",
    "        print(\"Metadata keys:\", list(meta.keys()))\n",
    "        # Peek at first 500 characters of raw text from page 1 (if any)\n",
    "        raw_text = reader.pages[1].extract_text() or \"\"\n",
    "        print(\"First page text preview:\\n\", raw_text[:500])\n",
    "    except Exception as e:\n",
    "        print(\"Failed to open/inspect PDF with PyPDF2:\", e)\n"
   ]
  },
  {
   "cell_type": "markdown",
   "id": "1eeff905",
   "metadata": {},
   "source": [
    "## 3) Text extraction with pdfplumber"
   ]
  },
  {
   "cell_type": "code",
   "execution_count": 15,
   "id": "f27f7261",
   "metadata": {},
   "outputs": [
    {
     "name": "stdout",
     "output_type": "stream",
     "text": [
      "Pages: 1\n",
      "First page text preview (pdfplumber):\n",
      " Simple Sales Report\n",
      "Item Quantity Price\n",
      "Widget A 10 $9.99\n",
      "Widget B 5 $12.50\n",
      "Widget C 2 $199.00\n",
      "Saved all text to /workspaces/examples/Module05/data/extracted_text.txt\n"
     ]
    }
   ],
   "source": [
    "\n",
    "if pdfplumber is None:\n",
    "    print(\"pdfplumber not available. Install it with: %pip install pdfplumber\")\n",
    "else:\n",
    "    try:\n",
    "        with pdfplumber.open(PDF_PATH4) as pdf:\n",
    "            n_pages = len(pdf.pages)\n",
    "            print(\"Pages:\", n_pages)\n",
    "            # Extract text from all pages\n",
    "            texts = []\n",
    "            for i, page in enumerate(pdf.pages):\n",
    "                t = page.extract_text() or \"\"\n",
    "                texts.append(t)\n",
    "                if i == 0:\n",
    "                    print(\"First page text preview (pdfplumber):\\n\", t[:500])\n",
    "            # Save full text for inspection\n",
    "            full_text_path = Path(\"./data/extracted_text.txt\")\n",
    "            full_text_path.write_text(\"\\n\\n\".join(texts), encoding=\"utf-8\")\n",
    "            print(\"Saved all text to\", full_text_path.resolve())\n",
    "    except Exception as e:\n",
    "        print(\"pdfplumber failed:\", e)\n"
   ]
  },
  {
   "cell_type": "markdown",
   "id": "49e21063",
   "metadata": {},
   "source": [
    "### 3a) Table extraction with pdfplumber"
   ]
  },
  {
   "cell_type": "code",
   "execution_count": 18,
   "id": "b974ef47",
   "metadata": {},
   "outputs": [
    {
     "name": "stdout",
     "output_type": "stream",
     "text": [
      "No tables detected by pdfplumber's simple heuristic.\n"
     ]
    }
   ],
   "source": [
    "\n",
    "def extract_tables_pdfplumber(pdf_path, page_indexes=None):\n",
    "    \"\"\"Attempt simple table extraction per page using pdfplumber's built-in heuristic.\"\"\"\n",
    "    if pdfplumber is None:\n",
    "        raise RuntimeError(\"pdfplumber not available\")\n",
    "    tables = []\n",
    "    with pdfplumber.open(pdf_path) as pdf:\n",
    "        if page_indexes is None:\n",
    "            page_indexes = range(len(pdf.pages))\n",
    "        for idx in page_indexes:\n",
    "            page = pdf.pages[idx]\n",
    "            table = page.extract_table()\n",
    "            if table:\n",
    "                df = pd.DataFrame(table[1:], columns=table[0])\n",
    "                df[\"__page__\"] = idx + 1\n",
    "                tables.append(df)\n",
    "    return tables\n",
    "\n",
    "if pdfplumber is not None:\n",
    "    try:\n",
    "        dfs = extract_tables_pdfplumber(PDF_PATH4)\n",
    "        if dfs:\n",
    "            merged = pd.concat(dfs, ignore_index=True)\n",
    "            print(\"Extracted tables with pdfplumber:\", merged.shape)\n",
    "        else:\n",
    "            print(\"No tables detected by pdfplumber's simple heuristic.\")\n",
    "    except Exception as e:\n",
    "        print(\"pdfplumber table extraction failed:\", e)\n"
   ]
  },
  {
   "cell_type": "markdown",
   "id": "ba92d753",
   "metadata": {},
   "source": [
    "## 4) Table extraction with tabula-py"
   ]
  },
  {
   "cell_type": "code",
   "execution_count": 22,
   "id": "da702a19",
   "metadata": {},
   "outputs": [
    {
     "name": "stderr",
     "output_type": "stream",
     "text": [
      "Got stderr: Sep 18, 2025 2:35:17 PM org.apache.pdfbox.pdmodel.font.PDType1Font <init>\n",
      "WARNING: Using fallback font LiberationSans for base font Times-Roman\n",
      "Sep 18, 2025 2:35:17 PM org.apache.pdfbox.pdmodel.font.PDType1Font <init>\n",
      "WARNING: Using fallback font LiberationSans for base font Times-Bold\n",
      "Sep 18, 2025 2:35:17 PM org.apache.pdfbox.pdmodel.font.PDType1Font <init>\n",
      "WARNING: Using fallback font LiberationSans for base font Times-Italic\n",
      "Sep 18, 2025 2:35:17 PM org.apache.pdfbox.pdmodel.font.PDType1Font <init>\n",
      "WARNING: Using fallback font LiberationSans for base font Times-BoldItalic\n",
      "Sep 18, 2025 2:35:17 PM org.apache.pdfbox.pdmodel.font.PDType1Font <init>\n",
      "WARNING: Using fallback font LiberationSans for base font Helvetica\n",
      "Sep 18, 2025 2:35:17 PM org.apache.pdfbox.pdmodel.font.PDType1Font <init>\n",
      "WARNING: Using fallback font LiberationSans for base font Helvetica-Bold\n",
      "Sep 18, 2025 2:35:17 PM org.apache.pdfbox.pdmodel.font.PDType1Font <init>\n",
      "WARNING: Using fallback font LiberationSans for base font Helvetica-Oblique\n",
      "Sep 18, 2025 2:35:17 PM org.apache.pdfbox.pdmodel.font.PDType1Font <init>\n",
      "WARNING: Using fallback font LiberationSans for base font Helvetica-BoldOblique\n",
      "Sep 18, 2025 2:35:17 PM org.apache.pdfbox.pdmodel.font.PDType1Font <init>\n",
      "WARNING: Using fallback font LiberationSans for base font Courier\n",
      "Sep 18, 2025 2:35:17 PM org.apache.pdfbox.pdmodel.font.PDType1Font <init>\n",
      "WARNING: Using fallback font LiberationSans for base font Courier-Bold\n",
      "Sep 18, 2025 2:35:17 PM org.apache.pdfbox.pdmodel.font.PDType1Font <init>\n",
      "WARNING: Using fallback font LiberationSans for base font Courier-Oblique\n",
      "Sep 18, 2025 2:35:17 PM org.apache.pdfbox.pdmodel.font.PDType1Font <init>\n",
      "WARNING: Using fallback font LiberationSans for base font Courier-BoldOblique\n",
      "Sep 18, 2025 2:35:17 PM org.apache.pdfbox.pdmodel.font.PDType1Font <init>\n",
      "WARNING: Using fallback font LiberationSans for base font Symbol\n",
      "Sep 18, 2025 2:35:17 PM org.apache.pdfbox.pdmodel.font.PDType1Font <init>\n",
      "WARNING: Using fallback font LiberationSans for base font ZapfDingbats\n",
      "Sep 18, 2025 2:35:17 PM org.apache.pdfbox.pdmodel.font.PDType1Font <init>\n",
      "WARNING: Using fallback font LiberationSans for Helvetica\n",
      "Sep 18, 2025 2:35:17 PM org.apache.pdfbox.pdmodel.font.PDType1Font <init>\n",
      "WARNING: Using fallback font LiberationSans for Times-Roman\n",
      "Sep 18, 2025 2:35:17 PM org.apache.pdfbox.pdmodel.font.PDType1Font <init>\n",
      "WARNING: Using fallback font LiberationSans for Helvetica\n",
      "Sep 18, 2025 2:35:17 PM org.apache.pdfbox.pdmodel.font.PDType1Font <init>\n",
      "WARNING: Using fallback font LiberationSans for Times-Roman\n",
      "\n"
     ]
    },
    {
     "name": "stdout",
     "output_type": "stream",
     "text": [
      "tabula-py extracted 1 table(s). Showing the first:\n"
     ]
    },
    {
     "data": {
      "text/html": [
       "<div>\n",
       "<style scoped>\n",
       "    .dataframe tbody tr th:only-of-type {\n",
       "        vertical-align: middle;\n",
       "    }\n",
       "\n",
       "    .dataframe tbody tr th {\n",
       "        vertical-align: top;\n",
       "    }\n",
       "\n",
       "    .dataframe thead th {\n",
       "        text-align: right;\n",
       "    }\n",
       "</style>\n",
       "<table border=\"1\" class=\"dataframe\">\n",
       "  <thead>\n",
       "    <tr style=\"text-align: right;\">\n",
       "      <th></th>\n",
       "      <th>Item</th>\n",
       "      <th>Qty</th>\n",
       "      <th>Price</th>\n",
       "    </tr>\n",
       "  </thead>\n",
       "  <tbody>\n",
       "    <tr>\n",
       "      <th>0</th>\n",
       "      <td>Widget A</td>\n",
       "      <td>10</td>\n",
       "      <td>$9.99</td>\n",
       "    </tr>\n",
       "    <tr>\n",
       "      <th>1</th>\n",
       "      <td>Widget B</td>\n",
       "      <td>4</td>\n",
       "      <td>$14.50</td>\n",
       "    </tr>\n",
       "    <tr>\n",
       "      <th>2</th>\n",
       "      <td>Widget C</td>\n",
       "      <td>25</td>\n",
       "      <td>$2,499.00</td>\n",
       "    </tr>\n",
       "  </tbody>\n",
       "</table>\n",
       "</div>"
      ],
      "text/plain": [
       "       Item  Qty      Price\n",
       "0  Widget A   10      $9.99\n",
       "1  Widget B    4     $14.50\n",
       "2  Widget C   25  $2,499.00"
      ]
     },
     "metadata": {},
     "output_type": "display_data"
    }
   ],
   "source": [
    "\n",
    "def extract_tables_tabula(pdf_path, pages=\"all\", multiple_tables=True):\n",
    "    if tabula is None:\n",
    "        raise RuntimeError(\"tabula-py not available or Java not installed\")\n",
    "    # options: stream=True for whitespace detection, lattice=True for ruled tables\n",
    "    try:\n",
    "        dfs = tabula.read_pdf(pdf_path, pages=pages, multiple_tables=multiple_tables, guess=True)\n",
    "        return dfs or []\n",
    "    except Exception as e:\n",
    "        print(\"tabula-py failed:\", e)\n",
    "        return []\n",
    "\n",
    "if tabula is not None:\n",
    "    dfs_tab = extract_tables_tabula(PDF_PATH1, pages=\"all\", multiple_tables=True)\n",
    "    if dfs_tab:\n",
    "        # Show the first table\n",
    "        print(\"tabula-py extracted\", len(dfs_tab), \"table(s). Showing the first:\")\n",
    "        df0 = dfs_tab[0]\n",
    "        # Show first few rows for inspection\n",
    "        display(df0.head())\n",
    "    else:\n",
    "        print(\"tabula-py found no tables. Try setting lattice=True or stream=True via tabula.read_pdf kwargs.\")\n",
    "else:\n",
    "    print(\"tabula-py unavailable. Requires Java. Install Java and tabula-py if needed.\")\n"
   ]
  },
  {
   "cell_type": "markdown",
   "id": "71592215",
   "metadata": {},
   "source": [
    "## 5) OCR workflow for scanned PDFs (pdf2image + Tesseract)"
   ]
  },
  {
   "cell_type": "code",
   "execution_count": 27,
   "id": "8e9ad493",
   "metadata": {},
   "outputs": [
    {
     "name": "stdout",
     "output_type": "stream",
     "text": [
      "OCR page 1 preview:\n",
      " Quarterly Report\n",
      "\n",
      "This is a text-heavy page with no tables.\n",
      "\n",
      "OCR page 2 preview:\n",
      " Financials Q1\n",
      "\n",
      "Department\n",
      "HR\n",
      "\n",
      "IT\n",
      "Marketing\n",
      "\n",
      "Budget\n",
      "\n",
      "$100,000\n",
      "$250,000\n",
      "$150,000\n",
      "\n",
      "Spent\n",
      "$95,000\n",
      "$200,000\n",
      "$175,000\n",
      "\n",
      "Saved OCR preview to ocr_text_preview.txt\n"
     ]
    }
   ],
   "source": [
    "\n",
    "def ocr_pdf_to_text(pdf_path, dpi=300, max_pages=2):\n",
    "    if convert_from_path is None or pytesseract is None:\n",
    "        raise RuntimeError(\"pdf2image or pytesseract not available\")\n",
    "    pages = convert_from_path(pdf_path, dpi=dpi)\n",
    "    texts = []\n",
    "    for i, img in enumerate(pages[:max_pages]):\n",
    "        # Optional preprocessing could be added here\n",
    "        txt = pytesseract.image_to_string(img)\n",
    "        texts.append(txt)\n",
    "        print(f\"OCR page {i+1} preview:\\n\", txt[:300])\n",
    "    return \"\\n\\n\".join(texts)\n",
    "\n",
    "# Run OCR only if libraries are available\n",
    "if convert_from_path is not None and pytesseract is not None:\n",
    "    try:\n",
    "        ocr_text = ocr_pdf_to_text(PDF_PATH3, dpi=300, max_pages=2)\n",
    "        Path(\"ocr_text_preview.txt\").write_text(ocr_text, encoding=\"utf-8\")\n",
    "        print(\"Saved OCR preview to ocr_text_preview.txt\")\n",
    "    except Exception as e:\n",
    "        print(\"OCR step failed:\", e)\n",
    "else:\n",
    "    print(\"OCR libraries unavailable. Install pdf2image and pytesseract and ensure Tesseract is on PATH.\")\n"
   ]
  },
  {
   "cell_type": "markdown",
   "id": "5a797063",
   "metadata": {},
   "source": [
    "## 6) Visualize character bounding boxes (diagnostics)"
   ]
  },
  {
   "cell_type": "code",
   "execution_count": 28,
   "id": "b12d6650",
   "metadata": {},
   "outputs": [
    {
     "name": "stdout",
     "output_type": "stream",
     "text": [
      "First 5 char boxes:\n",
      "{'text': 'S', 'x0': 72.0, 'top': 61.03800000000001, 'x1': 79.784, 'bottom': 75.03800000000001}\n",
      "{'text': 'e', 'x0': 79.784, 'top': 61.03800000000001, 'x1': 86.0, 'bottom': 75.03800000000001}\n",
      "{'text': 's', 'x0': 86.0, 'top': 61.03800000000001, 'x1': 91.446, 'bottom': 75.03800000000001}\n",
      "{'text': 's', 'x0': 91.446, 'top': 61.03800000000001, 'x1': 96.892, 'bottom': 75.03800000000001}\n",
      "{'text': 'i', 'x0': 96.892, 'top': 61.03800000000001, 'x1': 100.78399999999999, 'bottom': 75.03800000000001}\n"
     ]
    }
   ],
   "source": [
    "\n",
    "if pdfplumber is None:\n",
    "    print(\"pdfplumber not available for visualization.\")\n",
    "else:\n",
    "    try:\n",
    "        with pdfplumber.open(PDF_PATH1) as pdf:\n",
    "            page = pdf.pages[0]\n",
    "            chars = page.chars[:50]  # preview first 50 characters\n",
    "            print(\"First 5 char boxes:\")\n",
    "            for c in chars[:5]:\n",
    "                print({k: c[k] for k in [\"text\", \"x0\", \"top\", \"x1\", \"bottom\"]})\n",
    "    except Exception as e:\n",
    "        print(\"Failed to read character boxes:\", e)\n"
   ]
  },
  {
   "cell_type": "markdown",
   "id": "ea2e6356",
   "metadata": {},
   "source": [
    "## 7) Robust wrapper functions"
   ]
  },
  {
   "cell_type": "code",
   "execution_count": 30,
   "id": "8c191647",
   "metadata": {},
   "outputs": [
    {
     "name": "stderr",
     "output_type": "stream",
     "text": [
      "Got stderr: Sep 18, 2025 2:40:53 PM org.apache.pdfbox.pdmodel.font.PDType1Font <init>\n",
      "WARNING: Using fallback font LiberationSans for base font Times-Roman\n",
      "Sep 18, 2025 2:40:53 PM org.apache.pdfbox.pdmodel.font.PDType1Font <init>\n",
      "WARNING: Using fallback font LiberationSans for base font Times-Bold\n",
      "Sep 18, 2025 2:40:53 PM org.apache.pdfbox.pdmodel.font.PDType1Font <init>\n",
      "WARNING: Using fallback font LiberationSans for base font Times-Italic\n",
      "Sep 18, 2025 2:40:53 PM org.apache.pdfbox.pdmodel.font.PDType1Font <init>\n",
      "WARNING: Using fallback font LiberationSans for base font Times-BoldItalic\n",
      "Sep 18, 2025 2:40:53 PM org.apache.pdfbox.pdmodel.font.PDType1Font <init>\n",
      "WARNING: Using fallback font LiberationSans for base font Helvetica\n",
      "Sep 18, 2025 2:40:53 PM org.apache.pdfbox.pdmodel.font.PDType1Font <init>\n",
      "WARNING: Using fallback font LiberationSans for base font Helvetica-Bold\n",
      "Sep 18, 2025 2:40:53 PM org.apache.pdfbox.pdmodel.font.PDType1Font <init>\n",
      "WARNING: Using fallback font LiberationSans for base font Helvetica-Oblique\n",
      "Sep 18, 2025 2:40:53 PM org.apache.pdfbox.pdmodel.font.PDType1Font <init>\n",
      "WARNING: Using fallback font LiberationSans for base font Helvetica-BoldOblique\n",
      "Sep 18, 2025 2:40:53 PM org.apache.pdfbox.pdmodel.font.PDType1Font <init>\n",
      "WARNING: Using fallback font LiberationSans for base font Courier\n",
      "Sep 18, 2025 2:40:53 PM org.apache.pdfbox.pdmodel.font.PDType1Font <init>\n",
      "WARNING: Using fallback font LiberationSans for base font Courier-Bold\n",
      "Sep 18, 2025 2:40:53 PM org.apache.pdfbox.pdmodel.font.PDType1Font <init>\n",
      "WARNING: Using fallback font LiberationSans for base font Courier-Oblique\n",
      "Sep 18, 2025 2:40:53 PM org.apache.pdfbox.pdmodel.font.PDType1Font <init>\n",
      "WARNING: Using fallback font LiberationSans for base font Courier-BoldOblique\n",
      "Sep 18, 2025 2:40:53 PM org.apache.pdfbox.pdmodel.font.PDType1Font <init>\n",
      "WARNING: Using fallback font LiberationSans for base font Symbol\n",
      "Sep 18, 2025 2:40:53 PM org.apache.pdfbox.pdmodel.font.PDType1Font <init>\n",
      "WARNING: Using fallback font LiberationSans for base font ZapfDingbats\n",
      "Sep 18, 2025 2:40:53 PM org.apache.pdfbox.pdmodel.font.PDType1Font <init>\n",
      "WARNING: Using fallback font LiberationSans for Helvetica\n",
      "Sep 18, 2025 2:40:53 PM org.apache.pdfbox.pdmodel.font.PDType1Font <init>\n",
      "WARNING: Using fallback font LiberationSans for Times-Roman\n",
      "Sep 18, 2025 2:40:54 PM org.apache.pdfbox.pdmodel.font.PDType1Font <init>\n",
      "WARNING: Using fallback font LiberationSans for Helvetica\n",
      "Sep 18, 2025 2:40:54 PM org.apache.pdfbox.pdmodel.font.PDType1Font <init>\n",
      "WARNING: Using fallback font LiberationSans for Times-Roman\n",
      "\n"
     ]
    },
    {
     "name": "stdout",
     "output_type": "stream",
     "text": [
      "Artifacts: ['metadata', 'text_plumber', 'tables_plumber', 'tables_tabula', 'ocr_text', 'errors']\n",
      "Errors: []\n",
      "Combined tables extracted with tabula-py:\n"
     ]
    },
    {
     "data": {
      "text/html": [
       "<div>\n",
       "<style scoped>\n",
       "    .dataframe tbody tr th:only-of-type {\n",
       "        vertical-align: middle;\n",
       "    }\n",
       "\n",
       "    .dataframe tbody tr th {\n",
       "        vertical-align: top;\n",
       "    }\n",
       "\n",
       "    .dataframe thead th {\n",
       "        text-align: right;\n",
       "    }\n",
       "</style>\n",
       "<table border=\"1\" class=\"dataframe\">\n",
       "  <thead>\n",
       "    <tr style=\"text-align: right;\">\n",
       "      <th></th>\n",
       "      <th>Item</th>\n",
       "      <th>Qty</th>\n",
       "      <th>Price</th>\n",
       "    </tr>\n",
       "  </thead>\n",
       "  <tbody>\n",
       "    <tr>\n",
       "      <th>0</th>\n",
       "      <td>Widget A</td>\n",
       "      <td>10</td>\n",
       "      <td>$9.99</td>\n",
       "    </tr>\n",
       "    <tr>\n",
       "      <th>1</th>\n",
       "      <td>Widget B</td>\n",
       "      <td>4</td>\n",
       "      <td>$14.50</td>\n",
       "    </tr>\n",
       "    <tr>\n",
       "      <th>2</th>\n",
       "      <td>Widget C</td>\n",
       "      <td>25</td>\n",
       "      <td>$2,499.00</td>\n",
       "    </tr>\n",
       "  </tbody>\n",
       "</table>\n",
       "</div>"
      ],
      "text/plain": [
       "       Item  Qty      Price\n",
       "0  Widget A   10      $9.99\n",
       "1  Widget B    4     $14.50\n",
       "2  Widget C   25  $2,499.00"
      ]
     },
     "metadata": {},
     "output_type": "display_data"
    }
   ],
   "source": [
    "\n",
    "def extract_pdf_all(pdf_path, try_tabula=True, try_plumber=True, ocr_if_needed=False):\n",
    "    \"\"\"High-level extraction attempt. Returns dict of artifacts.\"\"\"\n",
    "    result = {\n",
    "        \"metadata\": {},\n",
    "        \"text_plumber\": None,\n",
    "        \"tables_plumber\": [],\n",
    "        \"tables_tabula\": [],\n",
    "        \"ocr_text\": None,\n",
    "        \"errors\": []\n",
    "    }\n",
    "    # Metadata\n",
    "    if PdfReader is not None:\n",
    "        try:\n",
    "            reader = PdfReader(pdf_path)\n",
    "            result[\"metadata\"] = dict(reader.metadata or {})\n",
    "        except Exception as e:\n",
    "            result[\"errors\"].append(f\"PyPDF2 metadata: {e}\")\n",
    "    # pdfplumber\n",
    "    if try_plumber and pdfplumber is not None:\n",
    "        try:\n",
    "            with pdfplumber.open(pdf_path) as pdf:\n",
    "                texts = []\n",
    "                tables = []\n",
    "                for i, page in enumerate(pdf.pages):\n",
    "                    t = page.extract_text() or \"\"\n",
    "                    texts.append(t)\n",
    "                    tb = page.extract_table()\n",
    "                    if tb:\n",
    "                        df = pd.DataFrame(tb[1:], columns=tb[0])\n",
    "                        df[\"__page__\"] = i + 1\n",
    "                        tables.append(df)\n",
    "                result[\"text_plumber\"] = \"\\n\\n\".join(texts)\n",
    "                result[\"tables_plumber\"] = tables\n",
    "        except Exception as e:\n",
    "            result[\"errors\"].append(f\"pdfplumber: {e}\")\n",
    "    # tabula\n",
    "    if try_tabula and tabula is not None:\n",
    "        try:\n",
    "            dfs = tabula.read_pdf(pdf_path, pages=\"all\", multiple_tables=True, guess=True)\n",
    "            result[\"tables_tabula\"] = dfs or []\n",
    "        except Exception as e:\n",
    "            result[\"errors\"].append(f\"tabula: {e}\")\n",
    "    # OCR\n",
    "    if ocr_if_needed and convert_from_path is not None and pytesseract is not None:\n",
    "        try:\n",
    "            result[\"ocr_text\"] = ocr_pdf_to_text(pdf_path, dpi=300, max_pages=2)\n",
    "        except Exception as e:\n",
    "            result[\"errors\"].append(f\"OCR: {e}\")\n",
    "    return result\n",
    "\n",
    "# Example run (safe; will handle missing deps and missing file gracefully)\n",
    "try:\n",
    "    res = extract_pdf_all(PDF_PATH1, try_tabula=True, try_plumber=True, ocr_if_needed=False)\n",
    "    print(\"Artifacts:\", list(res.keys()))\n",
    "    print(\"Errors:\", res[\"errors\"])\n",
    "    if res[\"tables_plumber\"]:\n",
    "        df_all = pd.concat(res[\"tables_plumber\"], ignore_index=True)\n",
    "        print(\"Combined tables extracted with pdfplumber:\")\n",
    "        display(df_all.head())  # show first rows\n",
    "    elif res[\"tables_tabula\"]:\n",
    "        df_all = pd.concat(res[\"tables_tabula\"], ignore_index=True)\n",
    "        print(\"Combined tables extracted with tabula-py:\")\n",
    "        display(df_all.head())\n",
    "    else:\n",
    "        print(\"No tables extracted.\")\n",
    "\n",
    "except Exception as e:\n",
    "    print(\"Wrapper example failed:\", e)\n"
   ]
  },
  {
   "cell_type": "markdown",
   "id": "9965a4c6",
   "metadata": {},
   "source": [
    "## 8) Validate and clean extracted data"
   ]
  },
  {
   "cell_type": "code",
   "execution_count": 31,
   "id": "bff26a58",
   "metadata": {},
   "outputs": [
    {
     "name": "stdout",
     "output_type": "stream",
     "text": [
      "      Amount           Date  Amount_clean\n",
      "0  $1,234.56     2025-09-01       1234.56\n",
      "1    €789.00     09/02/2025        789.00\n",
      "2   1 000,00  Sept 03, 2025     100000.00\n",
      "3        N/A              —           NaN\n"
     ]
    }
   ],
   "source": [
    "\n",
    "# Example: normalize numbers and dates in a DataFrame\n",
    "import pandas as pd\n",
    "import numpy as np\n",
    "\n",
    "def clean_numeric_series(s):\n",
    "    return (s.astype(str)\n",
    "              .str.replace(r\"[^0-9.\\-]\", \"\", regex=True)\n",
    "              .replace({\"\": np.nan})\n",
    "              .astype(float))\n",
    "\n",
    "# Demo with a synthetic DataFrame if no tables were found\n",
    "demo = pd.DataFrame({\n",
    "    \"Amount\": [\"$1,234.56\", \"€789.00\", \"1 000,00\", \"N/A\"],\n",
    "    \"Date\": [\"2025-09-01\", \"09/02/2025\", \"Sept 03, 2025\", \"—\"]\n",
    "})\n",
    "demo[\"Amount_clean\"] = clean_numeric_series(demo[\"Amount\"])\n",
    "print(demo)\n"
   ]
  },
  {
   "cell_type": "markdown",
   "id": "e5cddd49",
   "metadata": {},
   "source": [
    "## 9) Export artifacts"
   ]
  },
  {
   "cell_type": "code",
   "execution_count": 32,
   "id": "0609c568",
   "metadata": {},
   "outputs": [],
   "source": [
    "\n",
    "def export_tables_to_csv(dfs, stem=\"tables\"):\n",
    "    out_paths = []\n",
    "    for i, df in enumerate(dfs):\n",
    "        p = Path(f\"{stem}_{i+1}.csv\")\n",
    "        df.to_csv(p, index=False)\n",
    "        out_paths.append(str(p.resolve()))\n",
    "    return out_paths\n",
    "\n",
    "# Example usage if you extracted tables with tabula or pdfplumber:\n",
    "# paths = export_tables_to_csv(res[\"tables_tabula\"] or res[\"tables_plumber\"], stem=\"extracted\")\n",
    "# print(paths)\n"
   ]
  },
  {
   "cell_type": "markdown",
   "id": "205a84b0",
   "metadata": {},
   "source": [
    "\n",
    "## 10) Troubleshooting\n",
    "\n",
    "- **No text extracted** but the PDF looks like a scan → enable the OCR section and install Tesseract.\n",
    "- **Tables not detected** → try `tabula` with `lattice=True` for ruled tables or `stream=True` for whitespace tables.\n",
    "- **Java error** with `tabula` → install a JRE and ensure `java` is on PATH.\n",
    "- **Rotated pages** → pre-rotate with PyPDF2 or use page rotation options before extraction.\n"
   ]
  }
 ],
 "metadata": {
  "kernelspec": {
   "display_name": "Python 3",
   "language": "python",
   "name": "python3"
  },
  "language_info": {
   "codemirror_mode": {
    "name": "ipython",
    "version": 3
   },
   "file_extension": ".py",
   "mimetype": "text/x-python",
   "name": "python",
   "nbconvert_exporter": "python",
   "pygments_lexer": "ipython3",
   "version": "3.12.11"
  }
 },
 "nbformat": 4,
 "nbformat_minor": 5
}
